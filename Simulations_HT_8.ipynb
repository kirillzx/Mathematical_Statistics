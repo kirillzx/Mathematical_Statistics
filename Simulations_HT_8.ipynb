{
 "cells": [
  {
   "cell_type": "markdown",
   "metadata": {},
   "source": [
    "# Confidence intervals. Sumulations \n",
    "### Kirill Zakharov"
   ]
  },
  {
   "cell_type": "code",
   "execution_count": 14,
   "metadata": {},
   "outputs": [],
   "source": [
    "import numpy as np\n",
    "import scipy.stats as sts\n",
    "import math"
   ]
  },
  {
   "cell_type": "markdown",
   "metadata": {},
   "source": [
    "## Task 1"
   ]
  },
  {
   "cell_type": "code",
   "execution_count": 148,
   "metadata": {},
   "outputs": [
    {
     "data": {
      "text/plain": [
       "array([[ 1.27953642, -0.51884561, -0.28812344,  2.05527544,  0.43005575,\n",
       "         3.00765982, -0.3637905 ,  0.0381512 ,  2.23853487,  3.22071385],\n",
       "       [-1.36771695,  4.44308174, -1.41606184,  4.09031984, -3.0820153 ,\n",
       "        -2.0583452 ,  4.36580401,  0.90909635,  3.62786268,  1.11533752]])"
      ]
     },
     "execution_count": 148,
     "metadata": {},
     "output_type": "execute_result"
    }
   ],
   "source": [
    "m = 1\n",
    "var = 2\n",
    "n = 100\n",
    "rv_norm = sts.norm(m, var)\n",
    "sample1 = rv_norm.rvs((n,10))\n",
    "sample1[:2]"
   ]
  },
  {
   "cell_type": "code",
   "execution_count": 115,
   "metadata": {},
   "outputs": [
    {
     "data": {
      "text/plain": [
       "(1.7664238874779636, 3.7897587641487283)"
      ]
     },
     "execution_count": 115,
     "metadata": {},
     "output_type": "execute_result"
    }
   ],
   "source": [
    "def confidence_int(sample, var, conf=0.95):\n",
    "    mean1, z = np.mean(sample), sts.t.ppf((1+conf)/2, len(sample)-1)\n",
    "    phi = np.sqrt(var)/np.sqrt(len(sample))\n",
    "    return (mean1 - z*phi, mean1 + z*phi)\n",
    "confidence_int(sample1[0], var)"
   ]
  },
  {
   "cell_type": "code",
   "execution_count": 116,
   "metadata": {},
   "outputs": [
    {
     "data": {
      "text/plain": [
       "[(1.7664238874779636, 3.7897587641487283),\n",
       " (0.1844979295269471, 2.207832806197712),\n",
       " (-0.4868563832734045, 1.53647849339736)]"
      ]
     },
     "execution_count": 116,
     "metadata": {},
     "output_type": "execute_result"
    }
   ],
   "source": [
    "sample_intervals = []\n",
    "for i in range(n):\n",
    "    sample_intervals.append(confidence_int(sample1[i], var))\n",
    "sample_intervals[0:3]"
   ]
  },
  {
   "cell_type": "code",
   "execution_count": 117,
   "metadata": {},
   "outputs": [
    {
     "name": "stdout",
     "output_type": "stream",
     "text": [
      "91.0 %\n"
     ]
    }
   ],
   "source": [
    "k = 0\n",
    "for i in range(n):\n",
    "    if sample_intervals[i][0] <= m <= sample_intervals[i][1]:\n",
    "        k+= 1\n",
    "print(f'{k*100/n} %')       "
   ]
  },
  {
   "cell_type": "markdown",
   "metadata": {},
   "source": [
    "### Let's make the function for simulation"
   ]
  },
  {
   "cell_type": "code",
   "execution_count": 229,
   "metadata": {},
   "outputs": [],
   "source": [
    "def percentOfCov(sample, var):\n",
    "    n = len(sample)\n",
    "    sample_intervals = []\n",
    "    for i in range(n):\n",
    "        sample_intervals.append(confidence_int(sample[i], var))\n",
    "    k = 0\n",
    "    for i in range(n):\n",
    "        if sample_intervals[i][0] <= m <= sample_intervals[i][1]:\n",
    "            k += 1\n",
    "    return k*100/n"
   ]
  },
  {
   "cell_type": "code",
   "execution_count": 233,
   "metadata": {},
   "outputs": [
    {
     "data": {
      "text/plain": [
       "[80.0, 82.0, 82.0, 94.0, 90.0, 91.0, 94.0, 86.0, 88.0, 92.0]"
      ]
     },
     "execution_count": 233,
     "metadata": {},
     "output_type": "execute_result"
    }
   ],
   "source": [
    "m = 1\n",
    "var = 2\n",
    "n = 100\n",
    "sim = []\n",
    "for _ in range(10):\n",
    "    rv_norm = sts.norm(m, var)\n",
    "    sample = rv_norm.rvs((n,10))\n",
    "    \n",
    "    sim.append(percentOfCov(sample, var))\n",
    "sim   "
   ]
  },
  {
   "cell_type": "markdown",
   "metadata": {},
   "source": [
    "## Task 3"
   ]
  },
  {
   "cell_type": "code",
   "execution_count": 263,
   "metadata": {},
   "outputs": [
    {
     "name": "stdout",
     "output_type": "stream",
     "text": [
      "Result: 4.295930806357171, Integrated func: 4.291634875550815\n"
     ]
    }
   ],
   "source": [
    "sum1 = 0\n",
    "n = 1000\n",
    "rv_norm = sts.norm(1, 2)\n",
    "sample1 = rv_norm.rvs((100, n))\n",
    "\n",
    "m1 = np.mean(sample1[0])\n",
    "for i in range(len(sample1[0])):\n",
    "    sum1 += (sample1[0][i]-m1)**2\n",
    "    \n",
    "sampleVar = sum1/(n-1)\n",
    "print(f'Result: {sampleVar}, Integrated func: {np.var(sample1[0])}')"
   ]
  },
  {
   "cell_type": "code",
   "execution_count": 264,
   "metadata": {},
   "outputs": [
    {
     "data": {
      "text/plain": [
       "94.0"
      ]
     },
     "execution_count": 264,
     "metadata": {},
     "output_type": "execute_result"
    }
   ],
   "source": [
    "percentOfCov(sample1, sampleVar)"
   ]
  },
  {
   "cell_type": "code",
   "execution_count": 268,
   "metadata": {},
   "outputs": [
    {
     "data": {
      "text/plain": [
       "[91.0, 98.0, 94.0, 91.0, 94.0, 95.0, 98.0, 89.0, 89.0, 93.0]"
      ]
     },
     "execution_count": 268,
     "metadata": {},
     "output_type": "execute_result"
    }
   ],
   "source": [
    "m = 1\n",
    "var = 2\n",
    "n = 100\n",
    "sim = []\n",
    "\n",
    "for _ in range(10):\n",
    "    rv_norm = sts.norm(m, var)\n",
    "    sample = rv_norm.rvs((100,n))\n",
    "    \n",
    "    sum1 = 0\n",
    "    m1 = np.mean(sample[0])\n",
    "    for i in range(len(sample[0])):\n",
    "        sum1 += (sample[0][i]-m1)**2\n",
    "\n",
    "    sampleVar = sum1/(n-1)\n",
    "    \n",
    "    sim.append(percentOfCov(sample, sampleVar))\n",
    "sim "
   ]
  },
  {
   "cell_type": "code",
   "execution_count": null,
   "metadata": {},
   "outputs": [],
   "source": []
  }
 ],
 "metadata": {
  "kernelspec": {
   "display_name": "Python 3",
   "language": "python",
   "name": "python3"
  },
  "language_info": {
   "codemirror_mode": {
    "name": "ipython",
    "version": 3
   },
   "file_extension": ".py",
   "mimetype": "text/x-python",
   "name": "python",
   "nbconvert_exporter": "python",
   "pygments_lexer": "ipython3",
   "version": "3.6.4"
  }
 },
 "nbformat": 4,
 "nbformat_minor": 2
}
